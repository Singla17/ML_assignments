{
 "cells": [
  {
   "cell_type": "code",
   "execution_count": 31,
   "id": "irish-oxygen",
   "metadata": {},
   "outputs": [],
   "source": [
    "#imports\n",
    "from mpl_toolkits import mplot3d\n",
    "import pandas as pd\n",
    "import numpy as np\n",
    "import math\n",
    "import matplotlib.pyplot as plt\n",
    "import copy"
   ]
  },
  {
   "cell_type": "code",
   "execution_count": 32,
   "id": "waiting-accident",
   "metadata": {},
   "outputs": [
    {
     "name": "stdout",
     "output_type": "stream",
     "text": [
      "       0\n",
      "0    9.1\n",
      "1    8.0\n",
      "2    9.1\n",
      "3    8.4\n",
      "4    6.9\n",
      "..   ...\n",
      "95   7.8\n",
      "96  10.2\n",
      "97   6.1\n",
      "98   7.3\n",
      "99   7.3\n",
      "\n",
      "[100 rows x 1 columns]\n",
      "[[ 0.60239429]\n",
      " [-0.03598116]\n",
      " [ 0.60239429]\n",
      " [ 0.19615537]\n",
      " [-0.67435661]\n",
      " [-0.21008356]\n",
      " [ 4.37461286]\n",
      " [-0.44222008]\n",
      " [-0.61632248]\n",
      " [-0.50025422]\n",
      " [ 1.18273561]\n",
      " [ 1.99521345]\n",
      " [-0.55828835]\n",
      " [ 1.12470147]\n",
      " [ 0.48632602]\n",
      " [-0.09401529]\n",
      " [-1.42880033]\n",
      " [-1.0225614 ]\n",
      " [-0.79042488]\n",
      " [ 1.356838  ]\n",
      " [ 0.2541895 ]\n",
      " [-0.38418595]\n",
      " [-1.0225614 ]\n",
      " [-1.54486859]\n",
      " [ 0.48632602]\n",
      " [ 0.77649668]\n",
      " [-0.32615182]\n",
      " [ 2.22734998]\n",
      " [-0.15204943]\n",
      " [-0.38418595]\n",
      " [ 1.58897453]\n",
      " [ 1.24076974]\n",
      " [-1.08059553]\n",
      " [-0.21008356]\n",
      " [ 3.27196435]\n",
      " [-0.03598116]\n",
      " [-0.79042488]\n",
      " [-0.79042488]\n",
      " [-0.61632248]\n",
      " [ 0.13812123]\n",
      " [-0.38418595]\n",
      " [ 1.06666734]\n",
      " [-1.13862967]\n",
      " [-0.61632248]\n",
      " [-1.54486859]\n",
      " [ 1.5309404 ]\n",
      " [-0.26811769]\n",
      " [ 0.48632602]\n",
      " [ 0.66042842]\n",
      " [-0.84845901]\n",
      " [-0.50025422]\n",
      " [-0.03598116]\n",
      " [-0.15204943]\n",
      " [-0.09401529]\n",
      " [-0.61632248]\n",
      " [-0.61632248]\n",
      " [-0.26811769]\n",
      " [ 0.60239429]\n",
      " [ 0.54436016]\n",
      " [-0.09401529]\n",
      " [-0.84845901]\n",
      " [ 2.22734998]\n",
      " [-0.90649314]\n",
      " [-0.55828835]\n",
      " [ 0.42829189]\n",
      " [-0.32615182]\n",
      " [-0.21008356]\n",
      " [-1.1966638 ]\n",
      " [ 1.47290627]\n",
      " [-0.84845901]\n",
      " [ 0.0800871 ]\n",
      " [-0.09401529]\n",
      " [-0.55828835]\n",
      " [-1.42880033]\n",
      " [-0.96452727]\n",
      " [-0.32615182]\n",
      " [ 1.00863321]\n",
      " [-0.61632248]\n",
      " [ 1.41487213]\n",
      " [-0.55828835]\n",
      " [-1.08059553]\n",
      " [-0.90649314]\n",
      " [-0.21008356]\n",
      " [-0.50025422]\n",
      " [ 0.71846255]\n",
      " [ 0.2541895 ]\n",
      " [-0.21008356]\n",
      " [-0.73239074]\n",
      " [-0.15204943]\n",
      " [ 0.37025776]\n",
      " [ 0.89256495]\n",
      " [-0.50025422]\n",
      " [ 0.71846255]\n",
      " [ 0.02205297]\n",
      " [-0.84845901]\n",
      " [-0.15204943]\n",
      " [ 1.24076974]\n",
      " [-1.13862967]\n",
      " [-0.44222008]\n",
      " [-0.44222008]]\n",
      "100\n"
     ]
    }
   ],
   "source": [
    "#input_csv\n",
    "df_inp = pd.read_csv('linearX.csv', header=None)\n",
    "print(df_inp)\n",
    "\n",
    "# normalizing data\n",
    "np_norm = df_inp.to_numpy()\n",
    "va = np_norm.var()\n",
    "st_dev = math.sqrt(va)\n",
    "m = np_norm.mean()\n",
    "np_norm = np_norm - m\n",
    "np_norm = np_norm/st_dev\n",
    "m = np.size(np_norm,0)\n",
    "print(np_norm)\n",
    "print(m)\n",
    "#print(np_norm.var())\n"
   ]
  },
  {
   "cell_type": "code",
   "execution_count": 33,
   "id": "dimensional-listing",
   "metadata": {},
   "outputs": [
    {
     "name": "stdout",
     "output_type": "stream",
     "text": [
      "          0\n",
      "0   0.99523\n",
      "1   0.99007\n",
      "2   0.99769\n",
      "3   0.99386\n",
      "4   0.99508\n",
      "..      ...\n",
      "95  0.99620\n",
      "96  0.99760\n",
      "97  0.99464\n",
      "98  0.99830\n",
      "99  0.99670\n",
      "\n",
      "[100 rows x 1 columns]\n"
     ]
    }
   ],
   "source": [
    "#labels_csv\n",
    "df_labels = pd.read_csv('linearY.csv', header=None)\n",
    "print(df_labels)"
   ]
  },
  {
   "cell_type": "code",
   "execution_count": 34,
   "id": "varying-execution",
   "metadata": {},
   "outputs": [
    {
     "name": "stdout",
     "output_type": "stream",
     "text": [
      "[[0.]\n",
      " [0.]]\n",
      "(2, 1)\n"
     ]
    }
   ],
   "source": [
    "#weight_vector\n",
    "weight = np.array([[0,0]],dtype = float).T\n",
    "print(weight)\n",
    "print(np.shape(weight))"
   ]
  },
  {
   "cell_type": "code",
   "execution_count": 35,
   "id": "historical-fantasy",
   "metadata": {},
   "outputs": [
    {
     "name": "stdout",
     "output_type": "stream",
     "text": [
      "[[ 0.60239429  1.        ]\n",
      " [-0.03598116  1.        ]\n",
      " [ 0.60239429  1.        ]\n",
      " [ 0.19615537  1.        ]\n",
      " [-0.67435661  1.        ]\n",
      " [-0.21008356  1.        ]\n",
      " [ 4.37461286  1.        ]\n",
      " [-0.44222008  1.        ]\n",
      " [-0.61632248  1.        ]\n",
      " [-0.50025422  1.        ]\n",
      " [ 1.18273561  1.        ]\n",
      " [ 1.99521345  1.        ]\n",
      " [-0.55828835  1.        ]\n",
      " [ 1.12470147  1.        ]\n",
      " [ 0.48632602  1.        ]\n",
      " [-0.09401529  1.        ]\n",
      " [-1.42880033  1.        ]\n",
      " [-1.0225614   1.        ]\n",
      " [-0.79042488  1.        ]\n",
      " [ 1.356838    1.        ]\n",
      " [ 0.2541895   1.        ]\n",
      " [-0.38418595  1.        ]\n",
      " [-1.0225614   1.        ]\n",
      " [-1.54486859  1.        ]\n",
      " [ 0.48632602  1.        ]\n",
      " [ 0.77649668  1.        ]\n",
      " [-0.32615182  1.        ]\n",
      " [ 2.22734998  1.        ]\n",
      " [-0.15204943  1.        ]\n",
      " [-0.38418595  1.        ]\n",
      " [ 1.58897453  1.        ]\n",
      " [ 1.24076974  1.        ]\n",
      " [-1.08059553  1.        ]\n",
      " [-0.21008356  1.        ]\n",
      " [ 3.27196435  1.        ]\n",
      " [-0.03598116  1.        ]\n",
      " [-0.79042488  1.        ]\n",
      " [-0.79042488  1.        ]\n",
      " [-0.61632248  1.        ]\n",
      " [ 0.13812123  1.        ]\n",
      " [-0.38418595  1.        ]\n",
      " [ 1.06666734  1.        ]\n",
      " [-1.13862967  1.        ]\n",
      " [-0.61632248  1.        ]\n",
      " [-1.54486859  1.        ]\n",
      " [ 1.5309404   1.        ]\n",
      " [-0.26811769  1.        ]\n",
      " [ 0.48632602  1.        ]\n",
      " [ 0.66042842  1.        ]\n",
      " [-0.84845901  1.        ]\n",
      " [-0.50025422  1.        ]\n",
      " [-0.03598116  1.        ]\n",
      " [-0.15204943  1.        ]\n",
      " [-0.09401529  1.        ]\n",
      " [-0.61632248  1.        ]\n",
      " [-0.61632248  1.        ]\n",
      " [-0.26811769  1.        ]\n",
      " [ 0.60239429  1.        ]\n",
      " [ 0.54436016  1.        ]\n",
      " [-0.09401529  1.        ]\n",
      " [-0.84845901  1.        ]\n",
      " [ 2.22734998  1.        ]\n",
      " [-0.90649314  1.        ]\n",
      " [-0.55828835  1.        ]\n",
      " [ 0.42829189  1.        ]\n",
      " [-0.32615182  1.        ]\n",
      " [-0.21008356  1.        ]\n",
      " [-1.1966638   1.        ]\n",
      " [ 1.47290627  1.        ]\n",
      " [-0.84845901  1.        ]\n",
      " [ 0.0800871   1.        ]\n",
      " [-0.09401529  1.        ]\n",
      " [-0.55828835  1.        ]\n",
      " [-1.42880033  1.        ]\n",
      " [-0.96452727  1.        ]\n",
      " [-0.32615182  1.        ]\n",
      " [ 1.00863321  1.        ]\n",
      " [-0.61632248  1.        ]\n",
      " [ 1.41487213  1.        ]\n",
      " [-0.55828835  1.        ]\n",
      " [-1.08059553  1.        ]\n",
      " [-0.90649314  1.        ]\n",
      " [-0.21008356  1.        ]\n",
      " [-0.50025422  1.        ]\n",
      " [ 0.71846255  1.        ]\n",
      " [ 0.2541895   1.        ]\n",
      " [-0.21008356  1.        ]\n",
      " [-0.73239074  1.        ]\n",
      " [-0.15204943  1.        ]\n",
      " [ 0.37025776  1.        ]\n",
      " [ 0.89256495  1.        ]\n",
      " [-0.50025422  1.        ]\n",
      " [ 0.71846255  1.        ]\n",
      " [ 0.02205297  1.        ]\n",
      " [-0.84845901  1.        ]\n",
      " [-0.15204943  1.        ]\n",
      " [ 1.24076974  1.        ]\n",
      " [-1.13862967  1.        ]\n",
      " [-0.44222008  1.        ]\n",
      " [-0.44222008  1.        ]]\n",
      "2\n"
     ]
    }
   ],
   "source": [
    "#data-processing \n",
    "np_norm =np.append(np_norm, np.ones((100,1)), axis=1 )\n",
    "print(np_norm)\n",
    "dims = np.size(np_norm, 1)\n",
    "print(dims)"
   ]
  },
  {
   "cell_type": "code",
   "execution_count": 36,
   "id": "opposite-davis",
   "metadata": {},
   "outputs": [],
   "source": [
    "#data_into_numpy\n",
    "np_X = np_norm\n",
    "np_Y = df_labels.to_numpy()\n",
    "#print(np_X)\n",
    "#print(np_Y)"
   ]
  },
  {
   "cell_type": "code",
   "execution_count": 37,
   "id": "afraid-dressing",
   "metadata": {},
   "outputs": [
    {
     "name": "stdout",
     "output_type": "stream",
     "text": [
      "[[0.]\n",
      " [0.]]\n",
      "[[0.0013402]\n",
      " [0.9966201]]\n"
     ]
    }
   ],
   "source": [
    "#Moore-Penrose inverse method for getting the solution\n",
    "np_temp = np.dot(np.transpose(np_X),np_X)\n",
    "#print(np_temp)\n",
    "weight_moore = np.dot(np.linalg.inv(np_temp),np.dot(np.transpose(np_X),np_Y))\n",
    "print(weight)\n",
    "print(weight_moore)"
   ]
  },
  {
   "cell_type": "code",
   "execution_count": 38,
   "id": "coral-magazine",
   "metadata": {},
   "outputs": [],
   "source": [
    "def loss_func(weight, np_X, np_Y, m):\n",
    "    np_var = np_Y - (np.dot(np_X,weight))\n",
    "    ret = np.dot(np.transpose(np_var),np_var)\n",
    "    return ret/(2*m)"
   ]
  },
  {
   "cell_type": "code",
   "execution_count": 39,
   "id": "curious-panama",
   "metadata": {},
   "outputs": [
    {
     "name": "stdout",
     "output_type": "stream",
     "text": [
      "[[0.4966279]]\n"
     ]
    }
   ],
   "source": [
    "#testing\n",
    "print(loss_func(weight, np_X, np_Y, m))"
   ]
  },
  {
   "cell_type": "code",
   "execution_count": 40,
   "id": "split-empty",
   "metadata": {},
   "outputs": [],
   "source": [
    "#testing\n",
    "#print(np_Y[0])\n",
    "#print(np.dot(np.transpose(weight),np_X[0]))\n",
    "#np.dot(np.transpose(weight),np_X[0])"
   ]
  },
  {
   "cell_type": "code",
   "execution_count": 41,
   "id": "legislative-seeking",
   "metadata": {},
   "outputs": [],
   "source": [
    "def gradient_lossfn(weight, np_X, np_Y, m, num):\n",
    "    sum=0\n",
    "    for i in range(m):\n",
    "        #print((np_Y[i] - np.dot(np.transpose(weight),np_X[i]))*np_X[i][num], \" hey yo \")\n",
    "        sum += (np_Y[i] - np.dot(np.transpose(weight),np_X[i]))*np_X[i][num]\n",
    "    return sum"
   ]
  },
  {
   "cell_type": "code",
   "execution_count": 42,
   "id": "eight-soccer",
   "metadata": {},
   "outputs": [
    {
     "name": "stdout",
     "output_type": "stream",
     "text": [
      "[0.1340196]\n",
      "[99.66201]\n"
     ]
    }
   ],
   "source": [
    "#Testing\n",
    "#print(m)\n",
    "print(gradient_lossfn(weight, np_X, np_Y, m, 0))\n",
    "print(gradient_lossfn(weight, np_X, np_Y, m, 1))\n",
    "precision = 0.00000001"
   ]
  },
  {
   "cell_type": "code",
   "execution_count": 43,
   "id": "statutory-receptor",
   "metadata": {},
   "outputs": [],
   "source": [
    "def batch_grad_descent(weight, np_X, np_Y, m, alpha, epochs, dims, precision,step_weight):\n",
    "    loss = np.ones(epochs+1)\n",
    "    loss[0]=loss_func(weight, np_X, np_Y, m)\n",
    "    grad = np.ones(dims)\n",
    "    for epoch in range(epochs):\n",
    "        step_weight[epoch]=np.transpose(weight)\n",
    "        for i in range(dims):\n",
    "            grad[i] = gradient_lossfn(weight, np_X, np_Y, m, i)\n",
    "            #print(grad[i], \" Gradient\",i ,\"Ith dimension\")\n",
    "        for i in range (dims):\n",
    "             #print(alpha*grad[i], \" prod \", i ,\"th dimension\")\n",
    "            weight[i] = weight[i] + alpha*grad[i]\n",
    "             #print(weight[i], \" weight\",i, \"th dimension\")\n",
    "        loss[epoch+1]= loss_func(weight, np_X, np_Y, m)\n",
    "        if(loss[epoch+1]<precision):\n",
    "            break\n",
    "        #print(weight)\n",
    "    return weight, loss, step_weight"
   ]
  },
  {
   "cell_type": "code",
   "execution_count": 44,
   "id": "federal-wagon",
   "metadata": {},
   "outputs": [],
   "source": [
    "#linear regression with MSE loss and batch gradient descent\n",
    "step_weight = np.zeros((100,2))\n",
    "weight = np.array([[0,0]], dtype=float).T\n",
    "weight, loss , step_weight= batch_grad_descent(weight, np_X, np_Y, m, 0.01, 100, dims, precision, step_weight)\n"
   ]
  },
  {
   "cell_type": "code",
   "execution_count": 45,
   "id": "distinct-cooking",
   "metadata": {},
   "outputs": [
    {
     "name": "stdout",
     "output_type": "stream",
     "text": [
      "[[0.0013402]\n",
      " [0.9966201]]\n",
      "[[0.        0.       ]\n",
      " [0.0013402 0.9966201]\n",
      " [0.0013402 0.9966201]\n",
      " [0.0013402 0.9966201]\n",
      " [0.0013402 0.9966201]\n",
      " [0.0013402 0.9966201]\n",
      " [0.0013402 0.9966201]\n",
      " [0.0013402 0.9966201]\n",
      " [0.0013402 0.9966201]\n",
      " [0.0013402 0.9966201]\n",
      " [0.0013402 0.9966201]\n",
      " [0.0013402 0.9966201]\n",
      " [0.0013402 0.9966201]\n",
      " [0.0013402 0.9966201]\n",
      " [0.0013402 0.9966201]\n",
      " [0.0013402 0.9966201]\n",
      " [0.0013402 0.9966201]\n",
      " [0.0013402 0.9966201]\n",
      " [0.0013402 0.9966201]\n",
      " [0.0013402 0.9966201]\n",
      " [0.0013402 0.9966201]\n",
      " [0.0013402 0.9966201]\n",
      " [0.0013402 0.9966201]\n",
      " [0.0013402 0.9966201]\n",
      " [0.0013402 0.9966201]\n",
      " [0.0013402 0.9966201]\n",
      " [0.0013402 0.9966201]\n",
      " [0.0013402 0.9966201]\n",
      " [0.0013402 0.9966201]\n",
      " [0.0013402 0.9966201]\n",
      " [0.0013402 0.9966201]\n",
      " [0.0013402 0.9966201]\n",
      " [0.0013402 0.9966201]\n",
      " [0.0013402 0.9966201]\n",
      " [0.0013402 0.9966201]\n",
      " [0.0013402 0.9966201]\n",
      " [0.0013402 0.9966201]\n",
      " [0.0013402 0.9966201]\n",
      " [0.0013402 0.9966201]\n",
      " [0.0013402 0.9966201]\n",
      " [0.0013402 0.9966201]\n",
      " [0.0013402 0.9966201]\n",
      " [0.0013402 0.9966201]\n",
      " [0.0013402 0.9966201]\n",
      " [0.0013402 0.9966201]\n",
      " [0.0013402 0.9966201]\n",
      " [0.0013402 0.9966201]\n",
      " [0.0013402 0.9966201]\n",
      " [0.0013402 0.9966201]\n",
      " [0.0013402 0.9966201]\n",
      " [0.0013402 0.9966201]\n",
      " [0.0013402 0.9966201]\n",
      " [0.0013402 0.9966201]\n",
      " [0.0013402 0.9966201]\n",
      " [0.0013402 0.9966201]\n",
      " [0.0013402 0.9966201]\n",
      " [0.0013402 0.9966201]\n",
      " [0.0013402 0.9966201]\n",
      " [0.0013402 0.9966201]\n",
      " [0.0013402 0.9966201]\n",
      " [0.0013402 0.9966201]\n",
      " [0.0013402 0.9966201]\n",
      " [0.0013402 0.9966201]\n",
      " [0.0013402 0.9966201]\n",
      " [0.0013402 0.9966201]\n",
      " [0.0013402 0.9966201]\n",
      " [0.0013402 0.9966201]\n",
      " [0.0013402 0.9966201]\n",
      " [0.0013402 0.9966201]\n",
      " [0.0013402 0.9966201]\n",
      " [0.0013402 0.9966201]\n",
      " [0.0013402 0.9966201]\n",
      " [0.0013402 0.9966201]\n",
      " [0.0013402 0.9966201]\n",
      " [0.0013402 0.9966201]\n",
      " [0.0013402 0.9966201]\n",
      " [0.0013402 0.9966201]\n",
      " [0.0013402 0.9966201]\n",
      " [0.0013402 0.9966201]\n",
      " [0.0013402 0.9966201]\n",
      " [0.0013402 0.9966201]\n",
      " [0.0013402 0.9966201]\n",
      " [0.0013402 0.9966201]\n",
      " [0.0013402 0.9966201]\n",
      " [0.0013402 0.9966201]\n",
      " [0.0013402 0.9966201]\n",
      " [0.0013402 0.9966201]\n",
      " [0.0013402 0.9966201]\n",
      " [0.0013402 0.9966201]\n",
      " [0.0013402 0.9966201]\n",
      " [0.0013402 0.9966201]\n",
      " [0.0013402 0.9966201]\n",
      " [0.0013402 0.9966201]\n",
      " [0.0013402 0.9966201]\n",
      " [0.0013402 0.9966201]\n",
      " [0.0013402 0.9966201]\n",
      " [0.0013402 0.9966201]\n",
      " [0.0013402 0.9966201]\n",
      " [0.0013402 0.9966201]\n",
      " [0.0013402 0.9966201]\n",
      " [0.0013402 0.9966201]]\n"
     ]
    }
   ],
   "source": [
    "print(weight)\n",
    "newrow = [0.0013402,0.9966201]\n",
    "step_weight = np.vstack([step_weight, newrow])\n",
    "print(step_weight)"
   ]
  },
  {
   "cell_type": "code",
   "execution_count": 46,
   "id": "flexible-chicken",
   "metadata": {},
   "outputs": [
    {
     "data": {
      "text/plain": [
       "[<matplotlib.lines.Line2D at 0x7f3ef7f1b3a0>]"
      ]
     },
     "execution_count": 46,
     "metadata": {},
     "output_type": "execute_result"
    },
    {
     "data": {
      "image/png": "[encoded data removed]",
      "text/plain": [
       "<Figure size 432x288 with 1 Axes>"
      ]
     },
     "metadata": {
      "needs_background": "light"
     },
     "output_type": "display_data"
    }
   ],
   "source": [
    "#loss array\n",
    "#print(loss)\n",
    "#print(np.shape(loss))\n",
    "np_epochs = np.linspace(0,100,101)\n",
    "plt.plot(np_epochs,loss)"
   ]
  },
  {
   "cell_type": "code",
   "execution_count": 47,
   "id": "national-europe",
   "metadata": {},
   "outputs": [
    {
     "data": {
      "image/png": "[encoded data removed]",
      "text/plain": [
       "<Figure size 432x288 with 1 Axes>"
      ]
     },
     "metadata": {
      "needs_background": "light"
     },
     "output_type": "display_data"
    }
   ],
   "source": [
    "np_out_lr = np.ones(m)\n",
    "for i in range(m):\n",
    "    np_out_lr[i] = np.dot(np.transpose(weight),np_X[i])\n",
    "plt.plot(np_X[:,0],np_out_lr, color='red')\n",
    "plt.scatter(np_X[:,0],np_Y)\n",
    "plt.title('Data with hypothesis function')\n",
    "plt.xlabel('acidity of wine sample ')\n",
    "plt.ylabel('density of wine sample')\n",
    "plt.show()"
   ]
  },
  {
   "cell_type": "code",
   "execution_count": 48,
   "id": "spatial-garlic",
   "metadata": {},
   "outputs": [
    {
     "data": {
      "text/plain": [
       "[<mpl_toolkits.mplot3d.art3d.Line3D at 0x7f3ef83a9490>]"
      ]
     },
     "execution_count": 48,
     "metadata": {},
     "output_type": "execute_result"
    },
    {
     "data": {
      "image/png": "[encoded data removed]",
      "text/plain": [
       "<Figure size 432x288 with 1 Axes>"
      ]
     },
     "metadata": {
      "needs_background": "light"
     },
     "output_type": "display_data"
    }
   ],
   "source": [
    "ax = plt.axes(projection='3d')\n",
    "ax.plot3D(step_weight[:,1],step_weight[:,0],loss)"
   ]
  },
  {
   "cell_type": "code",
   "execution_count": 49,
   "id": "portable-label",
   "metadata": {},
   "outputs": [
    {
     "data": {
      "image/png": "[encoded data removed]",
      "text/plain": [
       "<Figure size 432x288 with 2 Axes>"
      ]
     },
     "metadata": {
      "needs_background": "light"
     },
     "output_type": "display_data"
    }
   ],
   "source": [
    "#getting contour plots \n",
    "theta_not = np.linspace(0,0.005,100)\n",
    "theta_one = np.linspace(0,1,100)\n",
    "cp_x , cp_y = np.meshgrid(theta_not,theta_one)\n",
    "cp_z = np.zeros((100,100),dtype=float)\n",
    "for i in range(100):\n",
    "    for j in range(100):\n",
    "        temp = np.array([[cp_x[i][j],cp_y[i][j]]],dtype = float).T\n",
    "        cp_z[i][j]= loss_func(temp,np_X,np_Y,m)\n",
    "cp=plt.contourf(cp_x,cp_y,cp_z)\n",
    "plt.title('Contour Plot')\n",
    "plt.colorbar(cp)\n",
    "#print(step_weight)\n",
    "for k in range(1,(np.shape(step_weight)[0])):\n",
    "    plt.annotate('',xy=(step_weight[k][0],step_weight[k][1]),xytext=(step_weight[k-1][0],step_weight[k-1][1]),arrowprops={'arrowstyle': '->', 'color': 'r'})"
   ]
  },
  {
   "cell_type": "code",
   "execution_count": null,
   "id": "received-bulgarian",
   "metadata": {},
   "outputs": [],
   "source": []
  }
 ],
 "metadata": {
  "kernelspec": {
   "display_name": "Python 3",
   "language": "python",
   "name": "python3"
  },
  "language_info": {
   "codemirror_mode": {
    "name": "ipython",
    "version": 3
   },
   "file_extension": ".py",
   "mimetype": "text/x-python",
   "name": "python",
   "nbconvert_exporter": "python",
   "pygments_lexer": "ipython3",
   "version": "3.8.5"
  }
 },
 "nbformat": 4,
 "nbformat_minor": 5
}
