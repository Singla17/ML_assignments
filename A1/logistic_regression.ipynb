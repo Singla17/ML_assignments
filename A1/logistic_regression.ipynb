{
 "cells": [
  {
   "cell_type": "code",
   "execution_count": 25,
   "id": "unlimited-geography",
   "metadata": {},
   "outputs": [],
   "source": [
    "import pandas as pd\n",
    "import numpy as np\n",
    "import math\n",
    "import matplotlib.pyplot as plt"
   ]
  },
  {
   "cell_type": "code",
   "execution_count": 26,
   "id": "discrete-contact",
   "metadata": {},
   "outputs": [],
   "source": [
    "df_inp = pd.read_csv('logisticX.csv',header=None)\n",
    "df_op = pd.read_csv('logisticY.csv',header=None)"
   ]
  },
  {
   "cell_type": "code",
   "execution_count": 27,
   "id": "turkish-dominant",
   "metadata": {},
   "outputs": [
    {
     "name": "stdout",
     "output_type": "stream",
     "text": [
      "         0       1\n",
      "0   3.8915  4.2105\n",
      "1   3.6898  6.6051\n",
      "2   2.7763  7.5057\n",
      "3   3.1137  5.7724\n",
      "4   2.9251  5.4315\n",
      "..     ...     ...\n",
      "95  5.7629  4.6161\n",
      "96  4.1817  4.0577\n",
      "97  6.3065  2.4776\n",
      "98  5.6043  3.3146\n",
      "99  7.0567  4.7346\n",
      "\n",
      "[100 rows x 2 columns]\n",
      "    0\n",
      "0   0\n",
      "1   0\n",
      "2   0\n",
      "3   0\n",
      "4   0\n",
      ".. ..\n",
      "95  1\n",
      "96  1\n",
      "97  1\n",
      "98  1\n",
      "99  1\n",
      "\n",
      "[100 rows x 1 columns]\n"
     ]
    }
   ],
   "source": [
    "np_X = df_inp.to_numpy()\n",
    "np_Y = df_op.to_numpy()\n",
    "print(df_inp)\n",
    "print(df_op)"
   ]
  },
  {
   "cell_type": "code",
   "execution_count": 28,
   "id": "affected-uncertainty",
   "metadata": {},
   "outputs": [
    {
     "name": "stdout",
     "output_type": "stream",
     "text": [
      "2.708944180085382e-16\n",
      "1.0\n"
     ]
    }
   ],
   "source": [
    "#print(np_X)\n",
    "m = np.mean(np_X)\n",
    "va = np.var(np_X)\n",
    "std_dev = math.sqrt(va)\n",
    "np_X = np_X -m\n",
    "np_X /= std_dev\n",
    "#print(np_X)\n",
    "print(np.mean(np_X))\n",
    "print(np.var(np_X))\n",
    "#print(np_Y)"
   ]
  },
  {
   "cell_type": "code",
   "execution_count": 29,
   "id": "resident-money",
   "metadata": {},
   "outputs": [
    {
     "name": "stdout",
     "output_type": "stream",
     "text": [
      "[[-5.01572719e-01 -2.66031038e-01  1.00000000e+00]\n",
      " [-6.50502992e-01  1.50208216e+00  1.00000000e+00]\n",
      " [-1.32500872e+00  2.16706284e+00  1.00000000e+00]\n",
      " [-1.07588093e+00  8.87237149e-01  1.00000000e+00]\n",
      " [-1.21513849e+00  6.35525052e-01  1.00000000e+00]\n",
      " [-6.65196658e-01  1.38061944e+00  1.00000000e+00]\n",
      " [-1.27767887e+00 -5.59092145e-01  1.00000000e+00]\n",
      " [-5.89144015e-01  4.93978531e-01  1.00000000e+00]\n",
      " [-1.42084981e+00 -7.94633827e-01  1.00000000e+00]\n",
      " [-3.54857572e-01  1.00345740e+00  1.00000000e+00]\n",
      " [-9.13438392e-01  7.07811982e-01  1.00000000e+00]\n",
      " [-2.31169946e+00  9.29915234e-01  1.00000000e+00]\n",
      " [-6.48952404e-01  3.69193126e-01  1.00000000e+00]\n",
      " [-8.87471583e-02 -6.95396203e-01  1.00000000e+00]\n",
      " [ 1.48271273e-01  1.42314985e+00  1.00000000e+00]\n",
      " [-6.20377285e-01  2.01655798e-01  1.00000000e+00]\n",
      " [ 3.07095774e-01  8.19380471e-01  1.00000000e+00]\n",
      " [-2.77180503e-01  1.39125204e+00  1.00000000e+00]\n",
      " [ 7.72050622e-01  1.11103867e+00  1.00000000e+00]\n",
      " [-5.93352754e-01  7.36215429e-02  1.00000000e+00]\n",
      " [-4.34749766e-01  4.93757018e-01  1.00000000e+00]\n",
      " [-4.67164436e-01  5.26245526e-01  1.00000000e+00]\n",
      " [-3.76934990e-01  1.42100856e+00  1.00000000e+00]\n",
      " [-1.73586466e-01  1.63986297e+00  1.00000000e+00]\n",
      " [-6.82997038e-05 -1.00561161e-01  1.00000000e+00]\n",
      " [-1.52178570e+00 -6.65959031e-02  1.00000000e+00]\n",
      " [-1.75031282e+00  7.83126250e-01  1.00000000e+00]\n",
      " [ 2.00179048e-01  6.85217701e-01  1.00000000e+00]\n",
      " [-7.38319798e-02  8.35403212e-01  1.00000000e+00]\n",
      " [-1.41811783e+00 -9.10361214e-02  1.00000000e+00]\n",
      " [-8.27122334e-01 -3.07158535e-01  1.00000000e+00]\n",
      " [ 5.80663776e-01  6.27550600e-01  1.00000000e+00]\n",
      " [-1.64782634e+00  1.60287037e+00  1.00000000e+00]\n",
      " [-5.46613605e-01  1.15548885e+00  1.00000000e+00]\n",
      " [-1.81728345e+00  5.98384780e-01  1.00000000e+00]\n",
      " [-6.62169320e-01  4.02124659e-01  1.00000000e+00]\n",
      " [-5.62414834e-01 -1.45528209e-01  1.00000000e+00]\n",
      " [-9.25621583e-01  1.35344724e+00  1.00000000e+00]\n",
      " [-9.14791465e-02  1.32022035e+00  1.00000000e+00]\n",
      " [-8.91582487e-01  5.63385797e-01  1.00000000e+00]\n",
      " [ 8.96442842e-02  9.73627045e-01  1.00000000e+00]\n",
      " [ 2.25998182e-02  8.88418550e-01  1.00000000e+00]\n",
      " [-9.94955012e-01  1.37390023e+00  1.00000000e+00]\n",
      " [-5.97413817e-01  1.90324139e+00  1.00000000e+00]\n",
      " [-6.34480251e-01 -6.18235997e-01  1.00000000e+00]\n",
      " [-7.33889547e-02  4.58388847e-01  1.00000000e+00]\n",
      " [ 1.32470044e-01  6.26369200e-01  1.00000000e+00]\n",
      " [-2.01644723e-01 -2.60197874e-01  1.00000000e+00]\n",
      " [-7.70045933e-01  4.70941225e-01  1.00000000e+00]\n",
      " [-1.44809586e+00  1.28876557e+00  1.00000000e+00]\n",
      " [ 1.24495592e-01 -1.41221082e+00  1.00000000e+00]\n",
      " [-8.71277170e-01 -7.93230914e-01  1.00000000e+00]\n",
      " [-6.94755662e-02 -1.16359990e+00  1.00000000e+00]\n",
      " [ 8.99198827e-01 -2.15302264e+00  1.00000000e+00]\n",
      " [ 1.21246742e-01 -1.56778647e+00  1.00000000e+00]\n",
      " [ 1.38852006e+00 -2.23992940e+00  1.00000000e+00]\n",
      " [ 2.72613653e-01  4.62302236e-01  1.00000000e+00]\n",
      " [ 8.57628305e-01 -6.11516783e-01  1.00000000e+00]\n",
      " [ 2.44112371e-01 -3.45627882e-01  1.00000000e+00]\n",
      " [ 1.15430745e+00 -6.37950614e-01  1.00000000e+00]\n",
      " [-5.28966438e-01  3.87702346e-02  1.00000000e+00]\n",
      " [ 1.90272453e+00  3.31535992e-01  1.00000000e+00]\n",
      " [ 5.24030400e-01 -1.09050076e+00  1.00000000e+00]\n",
      " [ 5.83912627e-01 -1.50406470e+00  1.00000000e+00]\n",
      " [-3.70437288e-01  2.80637945e-02  1.00000000e+00]\n",
      " [ 6.84922351e-01  8.73134183e-01  1.00000000e+00]\n",
      " [ 6.34048301e-01 -9.53015302e-01  1.00000000e+00]\n",
      " [-2.07108699e-01 -1.35262395e+00  1.00000000e+00]\n",
      " [ 1.12809513e+00 -5.43660104e-01  1.00000000e+00]\n",
      " [ 2.17725242e+00 -1.48774660e+00  1.00000000e+00]\n",
      " [ 1.56838825e+00 -1.36650540e+00  1.00000000e+00]\n",
      " [ 6.39438440e-01 -2.89732881e-01  1.00000000e+00]\n",
      " [ 1.09937234e+00 -9.53089139e-01  1.00000000e+00]\n",
      " [ 8.44854414e-01 -4.00341483e-01  1.00000000e+00]\n",
      " [ 9.97698076e-01 -1.16264001e+00  1.00000000e+00]\n",
      " [-8.43514263e-01 -3.56925022e-01  1.00000000e+00]\n",
      " [ 1.44776913e-02 -5.36571703e-01  1.00000000e+00]\n",
      " [ 4.75445314e-01 -4.06986859e-01  1.00000000e+00]\n",
      " [ 1.15593188e+00  7.85686565e-02  1.00000000e+00]\n",
      " [ 9.56496741e-01 -1.44420647e-01  1.00000000e+00]\n",
      " [ 6.10494133e-01 -1.93069787e+00  1.00000000e+00]\n",
      " [-9.14102930e-01  5.59693921e-01  1.00000000e+00]\n",
      " [-3.69994263e-01 -1.71014521e+00  1.00000000e+00]\n",
      " [ 1.67818464e+00 -2.09609391e+00  1.00000000e+00]\n",
      " [ 7.87999526e-01 -8.23971318e-02  1.00000000e+00]\n",
      " [ 6.99025317e-01 -1.36857285e+00  1.00000000e+00]\n",
      " [ 4.36163754e-01 -2.19311641e+00  1.00000000e+00]\n",
      " [ 2.83868890e+00 -8.22618246e-01  1.00000000e+00]\n",
      " [ 1.78913843e-01  5.70548036e-01  1.00000000e+00]\n",
      " [ 5.80959126e-01 -1.27733368e-01  1.00000000e+00]\n",
      " [ 1.08394030e+00 -2.77475853e-01  1.00000000e+00]\n",
      " [ 1.66681366e+00 -1.58107723e+00  1.00000000e+00]\n",
      " [ 5.89376603e-01 -1.38717991e+00  1.00000000e+00]\n",
      " [ 1.40240151e+00 -1.07944913e-01  1.00000000e+00]\n",
      " [ 1.42344520e+00  1.90801683e-01  1.00000000e+00]\n",
      " [ 8.80222585e-01  3.34539333e-02  1.00000000e+00]\n",
      " [-2.87296243e-01 -3.78854765e-01  1.00000000e+00]\n",
      " [ 1.28160333e+00 -1.54556138e+00  1.00000000e+00]\n",
      " [ 7.63116282e-01 -9.27541358e-01  1.00000000e+00]\n",
      " [ 1.83553239e+00  1.20951392e-01  1.00000000e+00]]\n",
      "3\n"
     ]
    }
   ],
   "source": [
    "#data pre processing \n",
    "m = np.shape(np_X)[0]\n",
    "np_X =np.append(np_X, np.ones((m,1)), axis=1 )\n",
    "print(np_X)\n",
    "dims = np.size(np_X, 1)\n",
    "print(dims)"
   ]
  },
  {
   "cell_type": "code",
   "execution_count": 30,
   "id": "visible-contrary",
   "metadata": {},
   "outputs": [],
   "source": [
    "def loss_func(np_X,np_Y,weight,m):\n",
    "    s=0.0\n",
    "    for i in range(m):\n",
    "        s += -(np_Y[i]*(math.log(1/(1+np.exp(-1*(np.dot(np_X[i],weight)))))))-((1-np_Y[i])*(math.log(np.exp(-1*(np.dot(np_X[i],weight)))/(1+np.exp(-1*(np.dot(np_X[i],weight)))))))\n",
    "        # the line above is just the negative of log likelihood for one data sample\n",
    "    s /= 2*m\n",
    "    return s\n",
    "    "
   ]
  },
  {
   "cell_type": "code",
   "execution_count": 31,
   "id": "mexican-student",
   "metadata": {},
   "outputs": [
    {
     "name": "stdout",
     "output_type": "stream",
     "text": [
      "[[0.]\n",
      " [0.]\n",
      " [0.]]\n",
      "0.6931471805599453\n",
      "(3,)\n"
     ]
    }
   ],
   "source": [
    "theta = np.zeros((dims,1))\n",
    "print(theta)\n",
    "print(math.log(2))\n",
    "print(np.shape(np_X[0]))"
   ]
  },
  {
   "cell_type": "code",
   "execution_count": 32,
   "id": "framed-piece",
   "metadata": {},
   "outputs": [
    {
     "name": "stdout",
     "output_type": "stream",
     "text": [
      "[0.34657359]\n"
     ]
    }
   ],
   "source": [
    "#testing loss function\n",
    "print(loss_func(np_X,np_Y,theta,m))"
   ]
  },
  {
   "cell_type": "code",
   "execution_count": 33,
   "id": "educated-browser",
   "metadata": {},
   "outputs": [],
   "source": [
    "def sigmoid(np_X,theta,i):\n",
    "    s=0.0\n",
    "    s = 1/(1+ np.exp(-1*np.dot(np.transpose(theta),np_X[i])))\n",
    "    return s"
   ]
  },
  {
   "cell_type": "code",
   "execution_count": 34,
   "id": "weighted-hotel",
   "metadata": {},
   "outputs": [
    {
     "name": "stdout",
     "output_type": "stream",
     "text": [
      "[0.5]\n",
      "[-0. -0.  0.]\n"
     ]
    }
   ],
   "source": [
    "print(sigmoid(np_X,theta,0))\n",
    "print(np_Y[0]*np_X[0])"
   ]
  },
  {
   "cell_type": "code",
   "execution_count": 35,
   "id": "secure-swing",
   "metadata": {},
   "outputs": [],
   "source": [
    "def hessian(np_X,np_Y,theta,m,dims):\n",
    "    np_hess = np.zeros((dims,dims))\n",
    "    for i in range(m):\n",
    "        np_o = np_X[i].reshape((dims,1))\n",
    "        np_hess += sigmoid(np_X,theta,i)*(1-sigmoid(np_X,theta,i))*np.dot(np_o,np.transpose(np_o))\n",
    "    np_hess /= m\n",
    "    return np_hess"
   ]
  },
  {
   "cell_type": "code",
   "execution_count": 36,
   "id": "empty-butter",
   "metadata": {},
   "outputs": [
    {
     "name": "stdout",
     "output_type": "stream",
     "text": [
      "[[ 0.23741551 -0.12395829  0.00884657]\n",
      " [-0.12395829  0.26258449 -0.00884657]\n",
      " [ 0.00884657 -0.00884657  0.25      ]]\n"
     ]
    }
   ],
   "source": [
    "print(hessian(np_X,np_Y,theta,m,dims))"
   ]
  },
  {
   "cell_type": "code",
   "execution_count": 37,
   "id": "recorded-stanford",
   "metadata": {},
   "outputs": [],
   "source": [
    "def gradient_log(np_X,np_Y,theta,m,dims):\n",
    "    np_grad = np.zeros(dims)\n",
    "    for i in range(m):\n",
    "        np_grad += (sigmoid(np_X,theta,i)-np_Y[i])*np_X[i]\n",
    "    np_grad /= m\n",
    "    return np_grad"
   ]
  },
  {
   "cell_type": "code",
   "execution_count": 38,
   "id": "fourth-adaptation",
   "metadata": {},
   "outputs": [],
   "source": [
    "def newton_meth(np_X,np_Y,theta,m,dims,epochs):\n",
    "    np_loss = np.zeros((epochs+1))\n",
    "    np_loss[0]= loss_func(np_X,np_Y,theta,m)\n",
    "    for epoch in range(epochs):\n",
    "        np_o = gradient_log(np_X,np_Y,theta,m,dims).reshape((dims,1))\n",
    "        theta = theta - np.dot(np.linalg.inv(hessian(np_X,np_Y,theta,m,dims)),np_o)\n",
    "        #print(np.shape(theta))\n",
    "        #print(loss_func(np_X,np_Y,theta,m))\n",
    "        print(theta)\n",
    "        np_loss[epoch+1] = loss_func(np_X,np_Y,theta,m)\n",
    "    return theta,np_loss\n",
    "        "
   ]
  },
  {
   "cell_type": "code",
   "execution_count": 39,
   "id": "three-pressing",
   "metadata": {},
   "outputs": [
    {
     "name": "stdout",
     "output_type": "stream",
     "text": [
      "[[ 0.92142433]\n",
      " [-0.89832882]\n",
      " [-0.06439426]]\n",
      "[[ 1.5880951 ]\n",
      " [-1.53527136]\n",
      " [-0.01889946]]\n",
      "[[ 2.16040105]\n",
      " [-2.13444254]\n",
      " [ 0.07727528]]\n",
      "[[ 2.52959798]\n",
      " [-2.52901068]\n",
      " [ 0.17276936]]\n",
      "[[ 2.64862549]\n",
      " [-2.65172705]\n",
      " [ 0.20987627]]\n",
      "[[ 2.65796827]\n",
      " [-2.66101107]\n",
      " [ 0.21301308]]\n",
      "[[ 2.65801936]\n",
      " [-2.66106075]\n",
      " [ 0.2130308 ]]\n",
      "[[ 2.65801937]\n",
      " [-2.66106075]\n",
      " [ 0.2130308 ]]\n",
      "[[ 2.65801937]\n",
      " [-2.66106075]\n",
      " [ 0.2130308 ]]\n",
      "[[ 2.65801937]\n",
      " [-2.66106075]\n",
      " [ 0.2130308 ]]\n",
      "[[ 2.65801937]\n",
      " [-2.66106075]\n",
      " [ 0.2130308 ]]\n",
      "[[ 2.65801937]\n",
      " [-2.66106075]\n",
      " [ 0.2130308 ]]\n",
      "[[ 2.65801937]\n",
      " [-2.66106075]\n",
      " [ 0.2130308 ]]\n",
      "[[ 2.65801937]\n",
      " [-2.66106075]\n",
      " [ 0.2130308 ]]\n",
      "[[ 2.65801937]\n",
      " [-2.66106075]\n",
      " [ 0.2130308 ]]\n"
     ]
    }
   ],
   "source": [
    "epochs = 15\n",
    "np_loss = np.zeros((epochs+1))\n",
    "theta,np_loss = newton_meth(np_X,np_Y,theta,m,dims,epochs)"
   ]
  },
  {
   "cell_type": "code",
   "execution_count": 17,
   "id": "essential-atmosphere",
   "metadata": {},
   "outputs": [
    {
     "name": "stdout",
     "output_type": "stream",
     "text": [
      "[[ 2.65801937]\n",
      " [-2.66106075]\n",
      " [ 0.2130308 ]]\n"
     ]
    }
   ],
   "source": [
    "print(theta)"
   ]
  },
  {
   "cell_type": "code",
   "execution_count": 18,
   "id": "received-weekly",
   "metadata": {},
   "outputs": [
    {
     "name": "stdout",
     "output_type": "stream",
     "text": [
      "16\n",
      "[ 1.  2.  3.  4.  5.  6.  7.  8.  9. 10. 11. 12. 13. 14. 15. 16.]\n"
     ]
    }
   ],
   "source": [
    "print(epochs+1)\n",
    "plt_X = np.linspace(1,(epochs+1),epochs+1)\n",
    "print(plt_X)"
   ]
  },
  {
   "cell_type": "code",
   "execution_count": 20,
   "id": "prescription-purple",
   "metadata": {},
   "outputs": [
    {
     "name": "stdout",
     "output_type": "stream",
     "text": [
      "0.11417072492236197\n"
     ]
    },
    {
     "data": {
      "image/png": "[encoded data removed]",
      "text/plain": [
       "<Figure size 432x288 with 1 Axes>"
      ]
     },
     "metadata": {
      "needs_background": "light"
     },
     "output_type": "display_data"
    }
   ],
   "source": [
    "plt.plot(plt_X,np_loss)\n",
    "print(np_loss[15])"
   ]
  },
  {
   "cell_type": "code",
   "execution_count": 21,
   "id": "emerging-cornwall",
   "metadata": {},
   "outputs": [
    {
     "name": "stdout",
     "output_type": "stream",
     "text": [
      "[-3.         -2.99939994 -2.99879988 ...  2.99879988  2.99939994\n",
      "  3.        ]\n"
     ]
    }
   ],
   "source": [
    "# plot pre processing\n",
    "np_x1 = np.linspace(-3,3,10000)\n",
    "print(np_x1)\n",
    "np_x2 = (-1*theta[1]*np_x1-theta[2])/theta[0]"
   ]
  },
  {
   "cell_type": "code",
   "execution_count": 22,
   "id": "greatest-broadcast",
   "metadata": {},
   "outputs": [
    {
     "data": {
      "image/png": "[encoded data removed]",
      "text/plain": [
       "<Figure size 432x288 with 1 Axes>"
      ]
     },
     "metadata": {
      "needs_background": "light"
     },
     "output_type": "display_data"
    }
   ],
   "source": [
    "#Plotting classification data\n",
    "plt.scatter(np_X[:,0],np_X[:,1],c=np_Y)\n",
    "plt.plot(np_x1,np_x2)\n",
    "plt.xlabel('X coordinate')\n",
    "plt.ylabel('Y coordinate')\n",
    "plt.show()"
   ]
  },
  {
   "cell_type": "code",
   "execution_count": null,
   "id": "grand-revolution",
   "metadata": {},
   "outputs": [],
   "source": []
  }
 ],
 "metadata": {
  "kernelspec": {
   "display_name": "Python 3",
   "language": "python",
   "name": "python3"
  },
  "language_info": {
   "codemirror_mode": {
    "name": "ipython",
    "version": 3
   },
   "file_extension": ".py",
   "mimetype": "text/x-python",
   "name": "python",
   "nbconvert_exporter": "python",
   "pygments_lexer": "ipython3",
   "version": "3.8.5"
  }
 },
 "nbformat": 4,
 "nbformat_minor": 5
}
