{
 "cells": [
  {
   "cell_type": "code",
   "execution_count": 55,
   "id": "broken-depression",
   "metadata": {},
   "outputs": [],
   "source": [
    "import pandas as pd\n",
    "import numpy as np\n",
    "import math\n",
    "import matplotlib.pyplot as plt\n",
    "import csv\n",
    "from numpy import arange, meshgrid"
   ]
  },
  {
   "cell_type": "code",
   "execution_count": 56,
   "id": "sealed-investor",
   "metadata": {},
   "outputs": [],
   "source": [
    "#with open('q4y.dat') as dat_file, open('q4y.csv', 'w') as csv_file:\n",
    "#    csv_writer = csv.writer(csv_file)\n",
    "    \n",
    "#    for line in dat_file:\n",
    "#        csv_writer.writerow(line)\n",
    "##### code courtesy - https://stackoverflow.com/questions/36845032/how-to-convert-dat-to-csv-using-python/497861914\n",
    "#### for generating .csv from .dat file"
   ]
  },
  {
   "cell_type": "code",
   "execution_count": 57,
   "id": "close-collect",
   "metadata": {},
   "outputs": [],
   "source": [
    "#reading .dat file\n",
    "np_X = np.loadtxt('q4x.dat')"
   ]
  },
  {
   "cell_type": "code",
   "execution_count": 58,
   "id": "contained-bloom",
   "metadata": {},
   "outputs": [
    {
     "name": "stdout",
     "output_type": "stream",
     "text": [
      "(100, 2)\n",
      "[[108. 368.]\n",
      " [131. 355.]\n",
      " [105. 469.]\n",
      " [ 86. 506.]\n",
      " [ 99. 402.]\n",
      " [ 87. 423.]\n",
      " [ 94. 440.]\n",
      " [117. 489.]\n",
      " [ 79. 432.]\n",
      " [ 99. 403.]\n",
      " [114. 428.]\n",
      " [123. 372.]\n",
      " [123. 372.]\n",
      " [109. 420.]\n",
      " [112. 394.]\n",
      " [104. 407.]\n",
      " [111. 422.]\n",
      " [126. 423.]\n",
      " [105. 434.]\n",
      " [119. 474.]\n",
      " [114. 396.]\n",
      " [100. 470.]\n",
      " [ 84. 399.]\n",
      " [102. 429.]\n",
      " [101. 469.]\n",
      " [ 85. 444.]\n",
      " [109. 397.]\n",
      " [106. 442.]\n",
      " [ 82. 431.]\n",
      " [118. 381.]\n",
      " [105. 388.]\n",
      " [121. 403.]\n",
      " [ 85. 451.]\n",
      " [ 83. 453.]\n",
      " [ 53. 427.]\n",
      " [ 95. 411.]\n",
      " [ 76. 442.]\n",
      " [ 95. 426.]\n",
      " [ 87. 402.]\n",
      " [ 70. 397.]\n",
      " [ 84. 511.]\n",
      " [ 91. 469.]\n",
      " [ 74. 451.]\n",
      " [101. 474.]\n",
      " [ 80. 398.]\n",
      " [ 95. 433.]\n",
      " [ 92. 404.]\n",
      " [ 99. 481.]\n",
      " [ 94. 491.]\n",
      " [ 87. 480.]\n",
      " [129. 420.]\n",
      " [148. 371.]\n",
      " [179. 407.]\n",
      " [152. 381.]\n",
      " [166. 377.]\n",
      " [124. 389.]\n",
      " [156. 419.]\n",
      " [131. 345.]\n",
      " [140. 362.]\n",
      " [144. 345.]\n",
      " [149. 393.]\n",
      " [108. 330.]\n",
      " [135. 355.]\n",
      " [170. 386.]\n",
      " [152. 301.]\n",
      " [153. 397.]\n",
      " [152. 301.]\n",
      " [136. 438.]\n",
      " [122. 306.]\n",
      " [148. 383.]\n",
      " [ 90. 385.]\n",
      " [145. 337.]\n",
      " [123. 364.]\n",
      " [145. 376.]\n",
      " [115. 354.]\n",
      " [134. 383.]\n",
      " [117. 355.]\n",
      " [126. 345.]\n",
      " [118. 379.]\n",
      " [120. 369.]\n",
      " [153. 403.]\n",
      " [150. 354.]\n",
      " [154. 390.]\n",
      " [155. 349.]\n",
      " [109. 325.]\n",
      " [117. 344.]\n",
      " [128. 400.]\n",
      " [144. 403.]\n",
      " [163. 370.]\n",
      " [145. 355.]\n",
      " [133. 375.]\n",
      " [128. 383.]\n",
      " [123. 349.]\n",
      " [144. 373.]\n",
      " [140. 388.]\n",
      " [150. 339.]\n",
      " [124. 341.]\n",
      " [125. 346.]\n",
      " [153. 352.]\n",
      " [108. 339.]]\n",
      "100\n"
     ]
    }
   ],
   "source": [
    "print(np.shape(np_X))\n",
    "print(np_X)\n",
    "m = np.shape(np_X)[0]\n",
    "print(m)"
   ]
  },
  {
   "cell_type": "code",
   "execution_count": 59,
   "id": "decent-debut",
   "metadata": {},
   "outputs": [],
   "source": [
    "df_Y = pd.read_csv('q4y.csv', header=None)"
   ]
  },
  {
   "cell_type": "code",
   "execution_count": 60,
   "id": "clean-solution",
   "metadata": {},
   "outputs": [
    {
     "name": "stdout",
     "output_type": "stream",
     "text": [
      "    0  1  2  3  4  5   6\n",
      "0   A  l  a  s  k  a  \\n\n",
      "1   A  l  a  s  k  a  \\n\n",
      "2   A  l  a  s  k  a  \\n\n",
      "3   A  l  a  s  k  a  \\n\n",
      "4   A  l  a  s  k  a  \\n\n",
      ".. .. .. .. .. .. ..  ..\n",
      "95  C  a  n  a  d  a  \\n\n",
      "96  C  a  n  a  d  a  \\n\n",
      "97  C  a  n  a  d  a  \\n\n",
      "98  C  a  n  a  d  a  \\n\n",
      "99  C  a  n  a  d  a  \\n\n",
      "\n",
      "[100 rows x 7 columns]\n"
     ]
    }
   ],
   "source": [
    "print(df_Y)"
   ]
  },
  {
   "cell_type": "code",
   "execution_count": 61,
   "id": "endangered-poverty",
   "metadata": {},
   "outputs": [
    {
     "name": "stdout",
     "output_type": "stream",
     "text": [
      "[0. 0. 0. 0. 0. 0. 0. 0. 0. 0. 0. 0. 0. 0. 0. 0. 0. 0. 0. 0. 0. 0. 0. 0.\n",
      " 0. 0. 0. 0. 0. 0. 0. 0. 0. 0. 0. 0. 0. 0. 0. 0. 0. 0. 0. 0. 0. 0. 0. 0.\n",
      " 0. 0. 1. 1. 1. 1. 1. 1. 1. 1. 1. 1. 1. 1. 1. 1. 1. 1. 1. 1. 1. 1. 1. 1.\n",
      " 1. 1. 1. 1. 1. 1. 1. 1. 1. 1. 1. 1. 1. 1. 1. 1. 1. 1. 1. 1. 1. 1. 1. 1.\n",
      " 1. 1. 1. 1.]\n",
      "100\n"
     ]
    }
   ],
   "source": [
    "np_Y = np.zeros(int(m))\n",
    "for i in df_Y.index:\n",
    "    if df_Y[0][i]=='A':\n",
    "        np_Y[i]=0\n",
    "    else:\n",
    "        np_Y[i]=1\n",
    "print(np_Y)\n",
    "print(m)"
   ]
  },
  {
   "cell_type": "code",
   "execution_count": 62,
   "id": "divine-niagara",
   "metadata": {},
   "outputs": [
    {
     "name": "stdout",
     "output_type": "stream",
     "text": [
      "100\n",
      "1.687538997430238e-16\n",
      "1.0\n"
     ]
    }
   ],
   "source": [
    "# data processing\n",
    "print(m)\n",
    "np_t = np_Y.reshape((int(m),1))\n",
    "np_Y= np_t\n",
    "va = np_X.var()\n",
    "st_dev = math.sqrt(va)\n",
    "me = np_X.mean()\n",
    "np_X = np_X - me\n",
    "np_X = np_X/st_dev\n",
    "#print(np_X)\n",
    "print(np_X.mean())\n",
    "print(np_X.var())"
   ]
  },
  {
   "cell_type": "code",
   "execution_count": 63,
   "id": "dynamic-dealing",
   "metadata": {},
   "outputs": [],
   "source": [
    "def mle_prior(np_Y):\n",
    "     return np_Y.mean()"
   ]
  },
  {
   "cell_type": "code",
   "execution_count": 64,
   "id": "heard-myanmar",
   "metadata": {},
   "outputs": [
    {
     "name": "stdout",
     "output_type": "stream",
     "text": [
      "0.5\n"
     ]
    }
   ],
   "source": [
    "phi = mle_prior(np_Y)\n",
    "print(phi)"
   ]
  },
  {
   "cell_type": "code",
   "execution_count": 65,
   "id": "distinguished-jenny",
   "metadata": {},
   "outputs": [
    {
     "name": "stdout",
     "output_type": "stream",
     "text": [
      "2\n"
     ]
    }
   ],
   "source": [
    "dims = np.shape(np_X)[1]\n",
    "print(dims)"
   ]
  },
  {
   "cell_type": "code",
   "execution_count": 66,
   "id": "distributed-circus",
   "metadata": {},
   "outputs": [],
   "source": [
    "def mle_mean_x0(np_X,np_Y,m,dims):\n",
    "    s = 0\n",
    "    np_t = np.zeros(dims)\n",
    "    for i in range(m):\n",
    "        if np_Y[i]==0:\n",
    "            np_t += np_X[i]\n",
    "            s += 1\n",
    "    np_t /= s\n",
    "    return np_t  "
   ]
  },
  {
   "cell_type": "code",
   "execution_count": 67,
   "id": "taken-laser",
   "metadata": {},
   "outputs": [
    {
     "name": "stdout",
     "output_type": "stream",
     "text": [
      "[-1.10106488  1.18368785]\n"
     ]
    }
   ],
   "source": [
    "np_m0 = mle_mean_x0(np_X,np_Y,m,dims)\n",
    "print(np_m0)"
   ]
  },
  {
   "cell_type": "code",
   "execution_count": 68,
   "id": "later-engineer",
   "metadata": {},
   "outputs": [],
   "source": [
    "def mle_mean_x1(np_X,np_Y,m,dims):\n",
    "    s = 0\n",
    "    np_t = np.zeros(dims)\n",
    "    for i in range(m):\n",
    "        if np_Y[i]==1:\n",
    "            np_t += np_X[i]\n",
    "            s += 1\n",
    "    #print(s)\n",
    "    np_t /= s\n",
    "    return np_t "
   ]
  },
  {
   "cell_type": "code",
   "execution_count": 69,
   "id": "indian-beads",
   "metadata": {},
   "outputs": [
    {
     "name": "stdout",
     "output_type": "stream",
     "text": [
      "[-0.8315402   0.74891723]\n"
     ]
    }
   ],
   "source": [
    "np_m1 = mle_mean_x1(np_X,np_Y,m,dims)\n",
    "print(np_m1)"
   ]
  },
  {
   "cell_type": "code",
   "execution_count": 70,
   "id": "continent-blogger",
   "metadata": {},
   "outputs": [],
   "source": [
    "def mle_sigma(np_X,np_Y,m,dims,np_m_x0,np_m_x1):\n",
    "    np_t=np.zeros((dims,dims))\n",
    "    for i in range(m):\n",
    "        if np_Y[i]==1:\n",
    "            np_op = np_X[i]-np_m_x1\n",
    "            np_op = np_op.reshape((dims,1))\n",
    "            np_t += np.dot(np_op,np.transpose(np_op))\n",
    "        else:\n",
    "            np_op = np_X[i]-np_m_x0\n",
    "            np_op = np_op.reshape((dims,1))\n",
    "            np_t += np.dot(np_op,np.transpose(np_op))\n",
    "    np_t /= m\n",
    "    return np_t"
   ]
  },
  {
   "cell_type": "code",
   "execution_count": 71,
   "id": "representative-delta",
   "metadata": {},
   "outputs": [],
   "source": [
    "np_sigma = mle_sigma(np_X,np_Y,m,dims,np_m0,np_m1)"
   ]
  },
  {
   "cell_type": "code",
   "execution_count": 72,
   "id": "electoral-point",
   "metadata": {},
   "outputs": [
    {
     "name": "stdout",
     "output_type": "stream",
     "text": [
      "[[ 0.0136741  -0.00127227]\n",
      " [-0.00127227  0.05342744]]\n"
     ]
    }
   ],
   "source": [
    "print(np_sigma)"
   ]
  },
  {
   "cell_type": "code",
   "execution_count": 73,
   "id": "fossil-bonus",
   "metadata": {},
   "outputs": [],
   "source": [
    "def mle_sigma_x0(np_X,np_Y,m,dims,np_m_x0):\n",
    "    np_t = np.zeros((dims,dims))\n",
    "    s=0\n",
    "    for i in range(m):\n",
    "        if np_Y[i]==0:\n",
    "            np_op = np_X[i]-np_m_x0\n",
    "            np_op = np_op.reshape((dims,1))\n",
    "            np_t += np.dot(np_op,np.transpose(np_op))\n",
    "            s += 1\n",
    "    np_t /= s\n",
    "    return np_t"
   ]
  },
  {
   "cell_type": "code",
   "execution_count": 74,
   "id": "worthy-biotechnology",
   "metadata": {},
   "outputs": [],
   "source": [
    "def mle_sigma_x1(np_X,np_Y,m,dims,np_m_x1):\n",
    "    np_t = np.zeros((dims,dims))\n",
    "    s=0\n",
    "    for i in range(m):\n",
    "        if np_Y[i]==1:\n",
    "            np_op = np_X[i]-np_m_x1\n",
    "            np_op = np_op.reshape((dims,1))\n",
    "            np_t += np.dot(np_op,np.transpose(np_op))\n",
    "            s += 1\n",
    "    np_t /= s\n",
    "    return np_t"
   ]
  },
  {
   "cell_type": "code",
   "execution_count": 75,
   "id": "administrative-freeze",
   "metadata": {},
   "outputs": [
    {
     "name": "stdout",
     "output_type": "stream",
     "text": [
      "2\n"
     ]
    }
   ],
   "source": [
    "print(dims)\n",
    "sigma_x0 = mle_sigma_x0(np_X,np_Y,m,dims,np_m0)\n",
    "sigma_x1 = mle_sigma_x1(np_X,np_Y,m,dims,np_m1)"
   ]
  },
  {
   "cell_type": "code",
   "execution_count": 76,
   "id": "liable-bernard",
   "metadata": {},
   "outputs": [
    {
     "name": "stdout",
     "output_type": "stream",
     "text": [
      "[[-25.78172222]]\n",
      "[[ 0.26952468 -0.43477062]]\n",
      "[[18.99554945 -7.68524788]]\n",
      "-7.68524788271564\n",
      "[[3.35470275]]\n",
      "2.471689883934566\n",
      "(10000,)\n",
      "(10000,)\n",
      "3.354702752038663\n",
      "2.471689883934566\n"
     ]
    }
   ],
   "source": [
    "# METH for decision boundary\n",
    "#print(np.shape(np_m0))\n",
    "np_m0=np_m0.reshape((dims,1))\n",
    "np_m1=np_m1.reshape((dims,1))\n",
    "#print(np.shape(np_m0))\n",
    "c = np.dot(np.dot(np.transpose(np_m1),np.linalg.inv(np_sigma)),np_m1)\n",
    "c -= np.dot(np.dot(np.transpose(np_m0),np.linalg.inv(np_sigma)),np_m0)\n",
    "c /= 2\n",
    "print(c)\n",
    "np_temp = np_m1-np_m0\n",
    "np_temp = np.transpose(np_temp)\n",
    "print(np_temp)\n",
    "np_temp = np.dot(np_temp,np.linalg.inv(np_sigma))\n",
    "print(np_temp)\n",
    "print(np_temp[0][1])\n",
    "const = (c)/np_temp[0][1]\n",
    "slope = (-1*np_temp[0][0])/np_temp[0][1]\n",
    "print(const)\n",
    "print(slope)\n",
    "constant = const.item()\n",
    "slopee = slope.item()\n",
    "np_plt_x = np.linspace(-1.4,-.6,10000)\n",
    "print(np.shape(np_plt_x))\n",
    "np_plt_y = slopee*np_plt_x+constant\n",
    "print(np.shape(np_plt_y))\n",
    "print(constant)\n",
    "print(slopee)"
   ]
  },
  {
   "cell_type": "code",
   "execution_count": 77,
   "id": "italian-introduction",
   "metadata": {},
   "outputs": [
    {
     "data": {
      "image/png": "[encoded data removed]",
      "text/plain": [
       "<Figure size 432x288 with 1 Axes>"
      ]
     },
     "metadata": {
      "needs_background": "light"
     },
     "output_type": "display_data"
    }
   ],
   "source": [
    "# plot of input data\n",
    "#Plotting classification data\n",
    "plt.scatter(np_X[:,0],np_X[:,1],c=np_Y)\n",
    "plt.plot(np_plt_x,np_plt_y)\n",
    "#plt.plot(np_plt_x2,np_plt_y2)\n",
    "plt.xlabel('X coordinate')\n",
    "plt.ylabel('Y coordinate')\n",
    "plt.show()"
   ]
  },
  {
   "cell_type": "code",
   "execution_count": 78,
   "id": "alpha-requirement",
   "metadata": {},
   "outputs": [
    {
     "name": "stdout",
     "output_type": "stream",
     "text": [
      "[[ 0.0121479  -0.0087677 ]\n",
      " [-0.0087677   0.06521665]]\n",
      "[[0.01520029 0.00622316]\n",
      " [0.00622316 0.04163824]]\n"
     ]
    }
   ],
   "source": [
    "print(sigma_x0)\n",
    "print(sigma_x1)"
   ]
  },
  {
   "cell_type": "code",
   "execution_count": 81,
   "id": "greater-optimum",
   "metadata": {},
   "outputs": [],
   "source": [
    "# METH for decision boundary quadratic\n",
    "det0 = np.linalg.det(sigma_x0)\n",
    "det1 = np.linalg.det(sigma_x1)\n",
    "ratio_det = det0/det1\n",
    "c1 = math.log(ratio_det)\n",
    "c1 += np.dot(np.dot(np.transpose(np_m0),np.linalg.inv(sigma_x0)),np_m0)\n",
    "c1 -= np.dot(np.dot(np.transpose(np_m1),np.linalg.inv(sigma_x1)),np_m1)\n",
    "#print(c1)\n",
    "mat_temp_0 = np.dot(np.transpose(np_m0),np.linalg.inv(sigma_x0)) #mean transpose sigma inverse\n",
    "mat_temp_0_transpose = np.transpose(mat_temp_0)\n",
    "mat_temp_1 = np.dot(np.transpose(np_m1),np.linalg.inv(sigma_x1)) #mean transpose sigma inverse\n",
    "mat_temp_1_transpose = np.transpose(mat_temp_1)\n",
    "#print(np.shape(mat_temp_0))\n",
    "coeff_x0 = -1*mat_temp_0[0][0]\n",
    "coeff_x0 -= mat_temp_0_transpose[0][0]\n",
    "coeff_x0 += mat_temp_1[0][0]\n",
    "coeff_x0 += mat_temp_1_transpose[0][0]\n",
    "coeff_x1 = -1*mat_temp_0[0][1]\n",
    "coeff_x1 -= mat_temp_0_transpose[1][0]\n",
    "coeff_x1 += mat_temp_1[0][1]\n",
    "coeff_x1 += mat_temp_1_transpose[1][0]\n",
    "x0 = np.linalg.inv(sigma_x0)\n",
    "coeff_x1_square = x0[0][0]\n",
    "coeff_x1x2 = x0[0][1]+x0[1][0]\n",
    "coeff_x2_square = x0[1][1]\n",
    "x1 = np.linalg.inv(sigma_x1)\n",
    "coeff_x1_square -= x1[0][0]\n",
    "coeff_x1x2 -= (x1[0][1]+x1[1][0])\n",
    "coeff_x2_square -= x1[1][1]"
   ]
  },
  {
   "cell_type": "code",
   "execution_count": 82,
   "id": "mighty-amazon",
   "metadata": {},
   "outputs": [
    {
     "name": "stdout",
     "output_type": "stream",
     "text": [
      "21.088365575214894\n",
      "-8.6005079422956\n",
      "45.4591329700534\n",
      "39.51149490775893\n",
      "42.524023401336144\n",
      "26.706030452397243\n"
     ]
    }
   ],
   "source": [
    "co=c1.item()\n",
    "print(coeff_x1_square)\n",
    "print(coeff_x2_square)\n",
    "print(coeff_x1x2)\n",
    "print(coeff_x0)\n",
    "print(coeff_x1)\n",
    "print(co)"
   ]
  },
  {
   "cell_type": "code",
   "execution_count": 86,
   "id": "elementary-moses",
   "metadata": {},
   "outputs": [
    {
     "data": {
      "image/png": "[encoded data removed]",
      "text/plain": [
       "<Figure size 432x288 with 1 Axes>"
      ]
     },
     "metadata": {
      "needs_background": "light"
     },
     "output_type": "display_data"
    }
   ],
   "source": [
    "delta = 0.025\n",
    "x,y = meshgrid(\n",
    "    arange(-1.4, -0.6, delta),\n",
    "    arange(0, 1.75, delta)\n",
    ")\n",
    "plt.contour(\n",
    "    x, y,\n",
    "    ((coeff_x1_square))*(x**2) + ((coeff_x2_square))*(y**2) + (coeff_x1x2)*x*y + (coeff_x0)*x + (coeff_x1)*y + co,\n",
    "    [0]\n",
    ")\n",
    "plt.scatter(np_X[:,0],np_X[:,1],c=np_Y)\n",
    "plt.xlabel('X coordinate')\n",
    "plt.ylabel('Y coordinate')\n",
    "plt.show()\n",
    "# code for quadratic decision boundary plot courtesy - https://stackoverflow.com/questions/51794943/python-plot-non-linear-equation"
   ]
  }
 ],
 "metadata": {
  "kernelspec": {
   "display_name": "Python 3",
   "language": "python",
   "name": "python3"
  },
  "language_info": {
   "codemirror_mode": {
    "name": "ipython",
    "version": 3
   },
   "file_extension": ".py",
   "mimetype": "text/x-python",
   "name": "python",
   "nbconvert_exporter": "python",
   "pygments_lexer": "ipython3",
   "version": "3.8.5"
  }
 },
 "nbformat": 4,
 "nbformat_minor": 5
}
